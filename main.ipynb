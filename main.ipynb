{
 "cells": [
  {
   "cell_type": "code",
   "execution_count": null,
   "metadata": {
    "vscode": {
     "languageId": "plaintext"
    }
   },
   "outputs": [],
   "source": [
    "\n",
    "from service.read_file import read_file_metro\n",
    "\n",
    "sommets, aretes = read_file_metro(\"res/metro.txt\")\n",
    "print(\"Sommets : \")\n",
    "for sommet in sommets:\n",
    "    print(sommet)\n",
    "print()\n",
    "\n",
    "print(\"Arêtes : \")\n",
    "for arete in aretes:\n",
    "    print(arete)"
   ]
  }
 ],
 "metadata": {
  "language_info": {
   "name": "python"
  }
 },
 "nbformat": 4,
 "nbformat_minor": 2
}
